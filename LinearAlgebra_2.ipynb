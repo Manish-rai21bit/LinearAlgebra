{
 "cells": [
  {
   "cell_type": "markdown",
   "metadata": {},
   "source": [
    "## Linear Algebra: _Matrix Eigenvalue Problems_\n",
    "Q. What's the idea behind Eigenvalues and Eigenvectors?<br>\n",
    "A. Boring way of explining it is **Ax = (Lambda)x**. But, let's visualize it. Given a set of points/vectors in a space, _eigenvectors_ are the points/vectors that stay on the same line after applying a transformtion **A** to it.<>\n",
    "Visualization of the Eigenvalues and Eigenvectors for a dataset\n",
    "\n",
    "**Contents:**\n",
    "- Eigenvalues and Eigenvectors\n",
    "- Applications of Eigenvalues and Eigenvectors"
   ]
  },
  {
   "cell_type": "code",
   "execution_count": 1,
   "metadata": {
    "collapsed": false
   },
   "outputs": [
    {
     "ename": "SyntaxError",
     "evalue": "invalid syntax (<ipython-input-1-c8ace618f127>, line 1)",
     "output_type": "error",
     "traceback": [
      "\u001b[0;36m  File \u001b[0;32m\"<ipython-input-1-c8ace618f127>\"\u001b[0;36m, line \u001b[0;32m1\u001b[0m\n\u001b[0;31m    ˙∆˚¬…æ\u001b[0m\n\u001b[0m    ^\u001b[0m\n\u001b[0;31mSyntaxError\u001b[0m\u001b[0;31m:\u001b[0m invalid syntax\n"
     ]
    }
   ],
   "source": []
  },
  {
   "cell_type": "code",
   "execution_count": null,
   "metadata": {
    "collapsed": true
   },
   "outputs": [],
   "source": []
  }
 ],
 "metadata": {
  "kernelspec": {
   "display_name": "Python 2",
   "language": "python",
   "name": "python2"
  },
  "language_info": {
   "codemirror_mode": {
    "name": "ipython",
    "version": 2
   },
   "file_extension": ".py",
   "mimetype": "text/x-python",
   "name": "python",
   "nbconvert_exporter": "python",
   "pygments_lexer": "ipython2",
   "version": "2.7.10"
  }
 },
 "nbformat": 4,
 "nbformat_minor": 1
}
