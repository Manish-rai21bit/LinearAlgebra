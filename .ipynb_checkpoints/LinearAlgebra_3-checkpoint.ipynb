{
 "cells": [
  {
   "cell_type": "markdown",
   "metadata": {
    "collapsed": true
   },
   "source": [
    "## Vector Differential Calculus. Grad, Div, Curl\n",
    "A vector is an arrow with a tail (initial point) and a head(terminal point). It's a quantity that is determined by both it's magnituide and direction."
   ]
  },
  {
   "cell_type": "code",
   "execution_count": 3,
   "metadata": {
    "collapsed": true
   },
   "outputs": [],
   "source": [
    "%matplotlib inline\n",
    "import numpy as np\n",
    "import matplotlib.pyplot as plt\n",
    "# Toolkits are collections of application-specific functions that extend matplotlib.\n",
    "# mpl_toolkits.mplot3d provides some basic 3D plotting (scatter, surf, line, mesh) tools. \n",
    "# Not the fastest or feature complete 3D library out there, but ships with matplotlib and thus may be a \n",
    "# lighter weight solution for some use cases.\n",
    "from mpl_toolkits.mplot3d import Axes3D"
   ]
  },
  {
   "cell_type": "code",
   "execution_count": 47,
   "metadata": {
    "collapsed": false,
    "scrolled": false
   },
   "outputs": [
    {
     "data": {
      "image/png": "[encoded data removed]",
      "text/plain": [
       "<matplotlib.figure.Figure at 0x106fb1150>"
      ]
     },
     "metadata": {},
     "output_type": "display_data"
    }
   ],
   "source": [
    "# This is a vector\n",
    "x = [0, 0, 0]\n",
    "y = [0, 0, 0]\n",
    "plt.figure(figsize=(4,4))\n",
    "plt.quiver( x, y, [2, 2, 4], [2,1, 3],angles='xy', scale_units='xy', scale=1, color=['r', 'g', 'b'])\n",
    "plt.xlim(0, 5)\n",
    "plt.ylim(0, 5)\n",
    "plt.grid()\n",
    "plt.xlabel('x')\n",
    "plt.ylabel('y')\n",
    "plt.show()\n",
    "\n",
    "# The vector in blue is the summation of vector red and green"
   ]
  },
  {
   "cell_type": "markdown",
   "metadata": {},
   "source": [
    "**ijk Notation for vectors** <br>\n",
    "\n",
    "\\begin{equation}\\text{vector } a = [a_1, a_2, a_3] = a_1i + a_2j + a_3k\\text{ ---- forms a real vector space }R^3\\end{equation}\n",
    "The vector space has a dimension 3. Triple of vectors **i, j, k** is called a standard bias of R^3"
   ]
  },
  {
   "cell_type": "code",
   "execution_count": 67,
   "metadata": {
    "collapsed": false
   },
   "outputs": [],
   "source": [
    "# Find the components of the vector v with initial point P and terminal point Q.\n",
    "# Find |v| and sketch it\n",
    "\n",
    "def get_componet_vector_func(A, B):\n",
    "    return list(A[i] - B[i] for i in range(len(A)))"
   ]
  },
  {
   "cell_type": "code",
   "execution_count": 68,
   "metadata": {
    "collapsed": false
   },
   "outputs": [
    {
     "data": {
      "text/plain": [
       "[-2, 4, 0]"
      ]
     },
     "execution_count": 68,
     "metadata": {},
     "output_type": "execute_result"
    }
   ],
   "source": [
    "A = (3, 2, 0)\n",
    "B = (5, -2, 0)\n",
    "get_componet_vector_func(A, B) # Component of a vector"
   ]
  },
  {
   "cell_type": "code",
   "execution_count": 70,
   "metadata": {
    "collapsed": false
   },
   "outputs": [
    {
     "data": {
      "text/plain": [
       "4.4721359549995796"
      ]
     },
     "execution_count": 70,
     "metadata": {},
     "output_type": "execute_result"
    }
   ],
   "source": [
    "np.linalg.norm(get_componet_vector_func(A, B)) # norm or |v| or eucledian distance"
   ]
  },
  {
   "cell_type": "code",
   "execution_count": 71,
   "metadata": {
    "collapsed": false
   },
   "outputs": [
    {
     "data": {
      "text/plain": [
       "([5, 5, 5], 8.6602540378443873)"
      ]
     },
     "execution_count": 71,
     "metadata": {},
     "output_type": "execute_result"
    }
   ],
   "source": [
    "A = (1, 1, 1)\n",
    "B = (-4, -4, -4)\n",
    "get_componet_vector_func(A, B), np.linalg.norm(get_componet_vector_func(A, B))"
   ]
  },
  {
   "cell_type": "markdown",
   "metadata": {},
   "source": [
    "#### Inner Products (Dot Products)"
   ]
  },
  {
   "cell_type": "code",
   "execution_count": null,
   "metadata": {
    "collapsed": true
   },
   "outputs": [],
   "source": []
  }
 ],
 "metadata": {
  "kernelspec": {
   "display_name": "Python 2",
   "language": "python",
   "name": "python2"
  },
  "language_info": {
   "codemirror_mode": {
    "name": "ipython",
    "version": 2
   },
   "file_extension": ".py",
   "mimetype": "text/x-python",
   "name": "python",
   "nbconvert_exporter": "python",
   "pygments_lexer": "ipython2",
   "version": "2.7.10"
  }
 },
 "nbformat": 4,
 "nbformat_minor": 1
}
