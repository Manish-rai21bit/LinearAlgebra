{
 "cells": [
  {
   "cell_type": "markdown",
   "metadata": {
    "collapsed": true
   },
   "source": [
    "## Vector Differential Calculus. Grad, Div, Curl\n",
    "A vector is an arrow with a tail (initial point) and a head(terminal point). It's a quantity that is determined by both it's magnituide and direction."
   ]
  },
  {
   "cell_type": "code",
   "execution_count": 3,
   "metadata": {
    "collapsed": true
   },
   "outputs": [],
   "source": [
    "%matplotlib inline\n",
    "import numpy as np\n",
    "import matplotlib.pyplot as plt\n",
    "# Toolkits are collections of application-specific functions that extend matplotlib.\n",
    "# mpl_toolkits.mplot3d provides some basic 3D plotting (scatter, surf, line, mesh) tools. \n",
    "# Not the fastest or feature complete 3D library out there, but ships with matplotlib and thus may be a \n",
    "# lighter weight solution for some use cases.\n",
    "from mpl_toolkits.mplot3d import Axes3D"
   ]
  },
  {
   "cell_type": "code",
   "execution_count": 46,
   "metadata": {
    "collapsed": false,
    "scrolled": false
   },
   "outputs": [
    {
     "data": {
      "image/png": "[encoded data removed]",
      "text/plain": [
       "<matplotlib.figure.Figure at 0x106cbbb10>"
      ]
     },
     "metadata": {},
     "output_type": "display_data"
    }
   ],
   "source": [
    "# This is a vector\n",
    "x = [0, 0, 0]\n",
    "y = [0, 0, 0]\n",
    "plt.figure(figsize=(4,4))\n",
    "plt.quiver( x, y, [2, 2, 4], [2,1, 3],angles='xy', scale_units='xy', scale=1, color=['r', 'g', 'b'])\n",
    "plt.xlim(0, 5)\n",
    "plt.ylim(0, 5)\n",
    "plt.grid()\n",
    "plt.show()\n",
    "\n",
    "# The vector in blue is the summation of vector red and green"
   ]
  },
  {
   "cell_type": "code",
   "execution_count": null,
   "metadata": {
    "collapsed": true
   },
   "outputs": [],
   "source": []
  }
 ],
 "metadata": {
  "kernelspec": {
   "display_name": "Python 2",
   "language": "python",
   "name": "python2"
  },
  "language_info": {
   "codemirror_mode": {
    "name": "ipython",
    "version": 2
   },
   "file_extension": ".py",
   "mimetype": "text/x-python",
   "name": "python",
   "nbconvert_exporter": "python",
   "pygments_lexer": "ipython2",
   "version": "2.7.10"
  }
 },
 "nbformat": 4,
 "nbformat_minor": 1
}
