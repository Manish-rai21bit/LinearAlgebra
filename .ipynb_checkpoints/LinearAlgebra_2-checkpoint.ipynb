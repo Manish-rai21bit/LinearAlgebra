{
 "cells": [
  {
   "cell_type": "markdown",
   "metadata": {},
   "source": [
    "## Linear Algebra: _Matrix Eigenvalue Problems_\n",
    "Q. What's the idea behind Eigenvalues and Eigenvectors?<br>\n",
    "A. Boring way of explining it is **Ax = (Lambda)x** (x is an unknown vector & lambda is an unknown scalar. But, let's visualize it. Given a set of points/vectors in a space, _eigenvectors_ are the points/vectors that stay on the same line after applying a transformtion **A** to it.<br>\n",
    "EigenValues are of great interest to solving practical problems in Engineering, physics, analytics, etc. <br>\n",
    "**Visualization of the Eigenvalues and Eigenvectors for a dataset**\n",
    "\n",
    "Reference Book - Advanced Engineering Mathematics by Erwin Kreyszig (Chapter - 8) <br>\n",
    "\n",
    "**Contents:**\n",
    "- Eigenvalues and Eigenvectors\n",
    "- Applications of Eigenvalues and Eigenvectors"
   ]
  },
  {
   "cell_type": "code",
   "execution_count": 2,
   "metadata": {
    "collapsed": false
   },
   "outputs": [],
   "source": [
    "import numpy as np"
   ]
  },
  {
   "cell_type": "code",
   "execution_count": 4,
   "metadata": {
    "collapsed": false
   },
   "outputs": [
    {
     "data": {
      "text/plain": [
       "(array([-6., -1.]), matrix([[-0.89442719, -0.4472136 ],\n",
       "         [ 0.4472136 , -0.89442719]]))"
      ]
     },
     "execution_count": 4,
     "metadata": {},
     "output_type": "execute_result"
    }
   ],
   "source": [
    "A = np.matrix('-5 2; 2 -2')\n",
    "\n",
    "#Getting the EigenValues of a matrix\n",
    "np.linalg.eig(A)"
   ]
  },
  {
   "cell_type": "markdown",
   "metadata": {},
   "source": [
    "Eigenvalues of a square-matrix **A** are the roots of the **characteristics equation** (**A - (lambda)I**) = 0 <br>\n",
    "Hence, an n x n matrix has atleast one eigenvalue and atmost n eigenvalue.\n",
    "\n",
    "### Some applications of Eigenvalue Problems\n",
    "1. Elastic Deformation/ Streching of an Elastic Memberane\n",
    "2. Eigenvalue Problems Arising from Markiv Processes"
   ]
  },
  {
   "cell_type": "code",
   "execution_count": 8,
   "metadata": {
    "collapsed": false
   },
   "outputs": [
    {
     "data": {
      "text/plain": [
       "(array([ 8., -2.]), matrix([[ 0.70710678, -0.70710678],\n",
       "         [ 0.70710678,  0.70710678]]))"
      ]
     },
     "execution_count": 8,
     "metadata": {},
     "output_type": "execute_result"
    }
   ],
   "source": [
    "# Elastic Deformation\n",
    "# Q. 7 Find the principal direction of contraction and expansion\n",
    "A = np.matrix('3 5; 5 3')\n",
    "np.linalg.eig(A)"
   ]
  },
  {
   "cell_type": "code",
   "execution_count": 11,
   "metadata": {
    "collapsed": false
   },
   "outputs": [
    {
     "data": {
      "text/plain": [
       "(array([-2.,  8.]), matrix([[-0.70710678,  0.70710678],\n",
       "         [ 0.70710678,  0.70710678]]))"
      ]
     },
     "execution_count": 11,
     "metadata": {},
     "output_type": "execute_result"
    }
   ],
   "source": [
    "np.linalg.eigh(A)"
   ]
  },
  {
   "cell_type": "markdown",
   "metadata": {},
   "source": [
    "### Symmetric, Skew-Symmetric, and Orthogonal Matrices\n",
    "#### Square matrix is required\n",
    "1. Symmetric - if transpose of a square matric = matrix\n",
    "2. Skew-Symmentric - if transpose of a square matric = - matrix\n",
    "3. Orthogonal - Transpose of Matrix = inverse of Matrix"
   ]
  },
  {
   "cell_type": "code",
   "execution_count": 12,
   "metadata": {
    "collapsed": false
   },
   "outputs": [
    {
     "data": {
      "text/plain": [
       "matrix([[ True,  True,  True],\n",
       "        [ True,  True,  True],\n",
       "        [ True,  True,  True]], dtype=bool)"
      ]
     },
     "execution_count": 12,
     "metadata": {},
     "output_type": "execute_result"
    }
   ],
   "source": [
    "# Symmetric\n",
    "S = np.matrix('-3 1 5;\\\n",
    "               1 0 -2;\\\n",
    "               5 -2 4')\n",
    "S == np.transpose(S)"
   ]
  },
  {
   "cell_type": "code",
   "execution_count": 13,
   "metadata": {
    "collapsed": false
   },
   "outputs": [
    {
     "data": {
      "text/plain": [
       "matrix([[ True,  True,  True],\n",
       "        [ True,  True,  True],\n",
       "        [ True,  True,  True]], dtype=bool)"
      ]
     },
     "execution_count": 13,
     "metadata": {},
     "output_type": "execute_result"
    }
   ],
   "source": [
    "# Skew-Symmetric\n",
    "S = np.matrix('0 9 -12;\\\n",
    "               -9 0 20;\\\n",
    "               12 -20 0')\n",
    "S == -1*np.transpose(S)"
   ]
  },
  {
   "cell_type": "code",
   "execution_count": 19,
   "metadata": {
    "collapsed": false
   },
   "outputs": [
    {
     "name": "stdout",
     "output_type": "stream",
     "text": [
      "[[ 23 -23  13]\n",
      " [ 13  23  23]\n",
      " [ 23  13 -23]] \n",
      "[[ 0.01936027 -0.01936027  0.00841751]\n",
      " [ 0.00841751  0.01936027  0.01936027]\n",
      " [ 0.01936027  0.00841751 -0.01936027]]\n"
     ]
    }
   ],
   "source": [
    "# Orthogonal MAtrix\n",
    "S = np.matrix('2/3 1/3 2/3;\\\n",
    "               -2/3 2/3 1/3;\\\n",
    "               1/3 2/3 -2/3')\n",
    "print np.transpose(S), '\\n',np.linalg.inv(S)"
   ]
  },
  {
   "cell_type": "code",
   "execution_count": null,
   "metadata": {
    "collapsed": true
   },
   "outputs": [],
   "source": []
  }
 ],
 "metadata": {
  "kernelspec": {
   "display_name": "Python 2",
   "language": "python",
   "name": "python2"
  },
  "language_info": {
   "codemirror_mode": {
    "name": "ipython",
    "version": 2
   },
   "file_extension": ".py",
   "mimetype": "text/x-python",
   "name": "python",
   "nbconvert_exporter": "python",
   "pygments_lexer": "ipython2",
   "version": "2.7.10"
  }
 },
 "nbformat": 4,
 "nbformat_minor": 1
}
