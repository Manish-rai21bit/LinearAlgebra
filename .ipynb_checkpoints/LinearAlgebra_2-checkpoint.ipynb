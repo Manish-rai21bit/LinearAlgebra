{
 "cells": [
  {
   "cell_type": "markdown",
   "metadata": {},
   "source": [
    "## Linear Algebra: _Matrix Eigenvalue Problems_\n",
    "Q. What's the idea behind Eigenvalues and Eigenvectors?<br>\n",
    "A. Boring way of explining it is **Ax = (Lambda)x** (x is an unknown vector & lambda is an unknown scalar. But, let's visualize it. Given a set of points/vectors in a space, _eigenvectors_ are the points/vectors that stay on the same line after applying a transformtion **A** to it.<br>\n",
    "EigenValues are of great interest to solving practical problems in Engineering, physics, analytics, etc. <br>\n",
    "**Visualization of the Eigenvalues and Eigenvectors for a dataset**\n",
    "\n",
    "Reference Book - Advanced Engineering Mathematics by Erwin Kreyszig (Chapter - 8) <br>\n",
    "\n",
    "**Contents:**\n",
    "- Eigenvalues and Eigenvectors\n",
    "- Applications of Eigenvalues and Eigenvectors\n",
    "- Symmetric, Skew-Symmetric, and Orthogonal Matrices"
   ]
  },
  {
   "cell_type": "code",
   "execution_count": 29,
   "metadata": {
    "collapsed": false
   },
   "outputs": [],
   "source": [
    "import numpy as np\n",
    "from __future__ import division"
   ]
  },
  {
   "cell_type": "code",
   "execution_count": 4,
   "metadata": {
    "collapsed": false
   },
   "outputs": [
    {
     "data": {
      "text/plain": [
       "(array([-6., -1.]), matrix([[-0.89442719, -0.4472136 ],\n",
       "         [ 0.4472136 , -0.89442719]]))"
      ]
     },
     "execution_count": 4,
     "metadata": {},
     "output_type": "execute_result"
    }
   ],
   "source": [
    "A = np.matrix('-5 2; 2 -2')\n",
    "\n",
    "#Getting the EigenValues of a matrix\n",
    "np.linalg.eig(A)"
   ]
  },
  {
   "cell_type": "markdown",
   "metadata": {},
   "source": [
    "Eigenvalues of a square-matrix **A** are the roots of the **characteristics equation** (**A - (lambda)I**) = 0 <br>\n",
    "Hence, an n x n matrix has atleast one eigenvalue and atmost n eigenvalue.\n",
    "\n",
    "### Some applications of Eigenvalue Problems\n",
    "1. Elastic Deformation/ Streching of an Elastic Memberane\n",
    "2. Eigenvalue Problems Arising from Markiv Processes"
   ]
  },
  {
   "cell_type": "code",
   "execution_count": 8,
   "metadata": {
    "collapsed": false
   },
   "outputs": [
    {
     "data": {
      "text/plain": [
       "(array([ 8., -2.]), matrix([[ 0.70710678, -0.70710678],\n",
       "         [ 0.70710678,  0.70710678]]))"
      ]
     },
     "execution_count": 8,
     "metadata": {},
     "output_type": "execute_result"
    }
   ],
   "source": [
    "# Elastic Deformation\n",
    "# Q. 7 Find the principal direction of contraction and expansion\n",
    "A = np.matrix('3 5; 5 3')\n",
    "np.linalg.eig(A)"
   ]
  },
  {
   "cell_type": "code",
   "execution_count": 11,
   "metadata": {
    "collapsed": false
   },
   "outputs": [
    {
     "data": {
      "text/plain": [
       "(array([-2.,  8.]), matrix([[-0.70710678,  0.70710678],\n",
       "         [ 0.70710678,  0.70710678]]))"
      ]
     },
     "execution_count": 11,
     "metadata": {},
     "output_type": "execute_result"
    }
   ],
   "source": [
    "np.linalg.eigh(A)"
   ]
  },
  {
   "cell_type": "markdown",
   "metadata": {},
   "source": [
    "### Symmetric, Skew-Symmetric, and Orthogonal Matrices\n",
    "#### Square matrix is required\n",
    "1. Symmetric - if transpose of a square matric = matrix\n",
    "2. Skew-Symmentric - if transpose of a square matric = - matrix\n",
    "3. Orthogonal - Transpose of Matrix = inverse of Matrix\n",
    "\n",
    "##### Properties\n",
    "- Eigenvalues of a Symmetric Matrix is real\n",
    "- Eigenvalues of a Skew-Symmetric Matrix is pure imaginary or zero"
   ]
  },
  {
   "cell_type": "code",
   "execution_count": 20,
   "metadata": {
    "collapsed": false
   },
   "outputs": [
    {
     "data": {
      "text/plain": [
       "matrix([[ True,  True,  True],\n",
       "        [ True,  True,  True],\n",
       "        [ True,  True,  True]], dtype=bool)"
      ]
     },
     "execution_count": 20,
     "metadata": {},
     "output_type": "execute_result"
    }
   ],
   "source": [
    "# Symmetric\n",
    "S = np.matrix('-3 1 5;\\\n",
    "               1 0 -2;\\\n",
    "               5 -2 4')\n",
    "S == np.transpose(S)"
   ]
  },
  {
   "cell_type": "code",
   "execution_count": 21,
   "metadata": {
    "collapsed": false
   },
   "outputs": [
    {
     "data": {
      "text/plain": [
       "array([ 6.86410039, -6.14843707,  0.28433668])"
      ]
     },
     "execution_count": 21,
     "metadata": {},
     "output_type": "execute_result"
    }
   ],
   "source": [
    "#Eigenvalue should be real\n",
    "np.linalg.eigvals(S)"
   ]
  },
  {
   "cell_type": "code",
   "execution_count": 22,
   "metadata": {
    "collapsed": false
   },
   "outputs": [
    {
     "data": {
      "text/plain": [
       "matrix([[ True,  True,  True],\n",
       "        [ True,  True,  True],\n",
       "        [ True,  True,  True]], dtype=bool)"
      ]
     },
     "execution_count": 22,
     "metadata": {},
     "output_type": "execute_result"
    }
   ],
   "source": [
    "# Skew-Symmetric\n",
    "S = np.matrix('0 9 -12;\\\n",
    "               -9 0 20;\\\n",
    "               12 -20 0')\n",
    "S == -1*np.transpose(S)"
   ]
  },
  {
   "cell_type": "code",
   "execution_count": 24,
   "metadata": {
    "collapsed": false
   },
   "outputs": [
    {
     "data": {
      "text/plain": [
       "array([ 0. +0.j,  0.+25.j,  0.-25.j])"
      ]
     },
     "execution_count": 24,
     "metadata": {},
     "output_type": "execute_result"
    }
   ],
   "source": [
    "#Eigenvalues should be pure - imaginary or zero\n",
    "np.linalg.eigvals(S)"
   ]
  },
  {
   "cell_type": "markdown",
   "metadata": {},
   "source": [
    "**y = Ax** is an Orthogonal transformation if **A** is an orthogonal matrix<br>\n",
    "- It can be shown that an Orthogonal Transformation in the plane or in three-dimensional space is a rotation (possibly combined with a reflection in a straight line or a plane, respectively)\n",
    "- Hence the transformation also preserves the length or norm of any vector **a**\n",
    "- A real square matrix is orthogonal if and only if its column vectors a1, a2,..., an(and also it's row vector) form an orthogonal system\n",
    "- **a**j.**a**k = Transpose(**a**j).**a**k ={0 if j != k; 1 if j = k; (Two vectors are orthogonal if their dot product is 0)\n",
    "- Determinant of an orthogonal matrix is either +1 or -1\n",
    "- The eigenvalue of an orthogonal matrix **A** are real or complex conjugates in pairs and have absolute value 1"
   ]
  },
  {
   "cell_type": "code",
   "execution_count": 37,
   "metadata": {
    "collapsed": false
   },
   "outputs": [
    {
     "name": "stdout",
     "output_type": "stream",
     "text": [
      "[[ 0.66666667 -0.66666667  0.33333333]\n",
      " [ 0.33333333  0.66666667  0.66666667]\n",
      " [ 0.66666667  0.33333333 -0.66666667]] \n",
      "[[ 0.66666667 -0.66666667  0.33333333]\n",
      " [ 0.33333333  0.66666667  0.66666667]\n",
      " [ 0.66666667  0.33333333 -0.66666667]]\n"
     ]
    }
   ],
   "source": [
    "# Orthogonal MAtrix\n",
    "S = [[2/3, 1/3, 2/3],\n",
    "    [-2/3, 2/3, 1/3],\n",
    "    [1/3, 2/3, -2/3]]\n",
    "print np.transpose(S), '\\n',np.linalg.inv(S)"
   ]
  },
  {
   "cell_type": "code",
   "execution_count": null,
   "metadata": {
    "collapsed": true
   },
   "outputs": [],
   "source": []
  }
 ],
 "metadata": {
  "kernelspec": {
   "display_name": "Python 2",
   "language": "python",
   "name": "python2"
  },
  "language_info": {
   "codemirror_mode": {
    "name": "ipython",
    "version": 2
   },
   "file_extension": ".py",
   "mimetype": "text/x-python",
   "name": "python",
   "nbconvert_exporter": "python",
   "pygments_lexer": "ipython2",
   "version": "2.7.10"
  }
 },
 "nbformat": 4,
 "nbformat_minor": 1
}
